{
  "nbformat": 4,
  "nbformat_minor": 0,
  "metadata": {
    "colab": {
      "name": "Ecoli_NeuralNetwork.ipynb",
      "provenance": []
    },
    "kernelspec": {
      "name": "python3",
      "display_name": "Python 3"
    },
    "language_info": {
      "name": "python"
    }
  },
  "cells": [
    {
      "cell_type": "markdown",
      "metadata": {
        "id": "jC7usZjC78UQ"
      },
      "source": [
        "# Neural Network - Ecoli Dataset\n",
        "\n",
        "This project mainly focuses on the understanding and implementation of Neural Networks in Python from scratch. I have used Ecoli dataset for this project. \n",
        "\n",
        "## Dataset Information:\n",
        "\n",
        "   - Number of Attributes - 9\n",
        "        - SequenceName\n",
        "        - MCG\n",
        "        - GVH\n",
        "        - LIP\n",
        "        - CHG\n",
        "        - AAC\n",
        "        - ALM1\n",
        "        - ALM2\n",
        "        - Class\n",
        "\n",
        "We will be predicting the Class attribute based on the other attributes mentioned above.\n"
      ]
    },
    {
      "cell_type": "markdown",
      "metadata": {
        "id": "i6R86bvhVnwT"
      },
      "source": [
        "## Importing the required libraries"
      ]
    },
    {
      "cell_type": "code",
      "metadata": {
        "id": "OnzyXXYb77eI"
      },
      "source": [
        "import pandas as pd\n",
        "import numpy as np\n"
      ],
      "execution_count": 1,
      "outputs": []
    },
    {
      "cell_type": "markdown",
      "metadata": {
        "id": "V2i347Au8y3h"
      },
      "source": [
        "## Implementation of Neural Network:"
      ]
    },
    {
      "cell_type": "markdown",
      "metadata": {
        "id": "I0_qVT3AVth-"
      },
      "source": [
        "### Structure of a Neural Network:\n",
        "   - Neural Network consists of an input layer, hidden layers and an output layer.\n",
        "   - Weights and biases associated with each layer.\n",
        "   - Activation function associated with each hidden layer.\n"
      ]
    },
    {
      "cell_type": "markdown",
      "metadata": {
        "id": "6hHgDEZAV1MF"
      },
      "source": [
        "## Weight Initialization:\n",
        "\n",
        "In this function the weights are intialized randomly in the range of [-1, 1]. This function takes nodes as an input which is nothing but the number of nodes in each layer and it returns a multi dimensional array called weights and each element in the array represents a connection between previous and current layer. Biases are also included along with the weights."
      ]
    },
    {
      "cell_type": "code",
      "metadata": {
        "id": "buB0KsawuvCg"
      },
      "source": [
        "def weight_initializer(nodes):\n",
        "    hidden_layers, weights = len(nodes), []\n",
        "    \n",
        "    for i in range(1, hidden_layers):\n",
        "        weight = [[np.random.uniform(-1, 1) for k in range(nodes[i-1] + 1)] for j in range(nodes[i])]\n",
        "        weights.append(np.matrix(weight))\n",
        "    \n",
        "    return weights"
      ],
      "execution_count": 2,
      "outputs": []
    },
    {
      "cell_type": "markdown",
      "metadata": {
        "id": "-Fg75eHb8z0K"
      },
      "source": [
        "## Neural Network:\n",
        "\n",
        "This function is used to train the network for the given number of iterations. It takes training data, validation data, number of iterations, learning rate and list of integers as inputs. Accuracies obtained from the train and validation data are printed for each iteration."
      ]
    },
    {
      "cell_type": "code",
      "metadata": {
        "id": "ks3Y2oNuwAE3"
      },
      "source": [
        "def neural_network(X_train, Y_train, X_val=None, Y_val=None, iterations=10, nodes=[], rate=0.15):\n",
        "    hiddenLayers = len(nodes) - 1\n",
        "    weights = weight_initializer(nodes)\n",
        "\n",
        "    for iteration in range(1, iterations+1):\n",
        "        weights = train_neuralNet(X_train, Y_train, rate, weights)\n",
        "\n",
        "        #Print the accuracy of training and validation after every 20 iterations\n",
        "        if(iteration % 20 == 0):\n",
        "            print(\"Iteration {}\".format(iteration))\n",
        "            print(\"Accuracy on train data:{}\".format(model_accuracy(X_train, Y_train, weights)))\n",
        "            if X_val.any():\n",
        "                print(\"Accuracy on validation data:{}\".format(model_accuracy(X_val, Y_val, weights)))\n",
        "                        \n",
        "    return weights"
      ],
      "execution_count": 3,
      "outputs": []
    },
    {
      "cell_type": "markdown",
      "metadata": {
        "id": "ckSEm84781A4"
      },
      "source": [
        "##Note :\n",
        "\n",
        "The weights need to be continuously adjusted across each iteration to increase the accuracy of the network. In each iteration the network is trained using forward/backward propagation algorithm. First, the input is passed through the network and output is calculated and then, according to the error of output, the weights are updated backwards. So basically, the error is propagated backward."
      ]
    },
    {
      "cell_type": "markdown",
      "metadata": {
        "id": "e9JWiBFFWBR9"
      },
      "source": [
        "## Feed Forward Propagation:\n",
        "\n",
        "Each layer receives an input and computes the output which is calculated by passing the dot product of input and weights of the layer to a activation function. I used \"Sigmoid\" activation function. The output of each layer is the input for the next layer.\n",
        "\n",
        "In this network, the information moves in a single direction input to hidden nodes followed by output nodes. No cycles or loops detected in the network. In this function, weights, number of hidden layers are taken as inputs.\n",
        "\n",
        "\n",
        "\n",
        "\n",
        "\n"
      ]
    },
    {
      "cell_type": "code",
      "metadata": {
        "id": "Zk3_0h6CwAHa"
      },
      "source": [
        "def Feed_Forward(x, weights, hidden_layers):\n",
        "    output, currentLayer_input = [x], x\n",
        "\n",
        "    for j in range(hidden_layers):\n",
        "        activation = Sigmoid(np.dot(currentLayer_input, weights[j].T))\n",
        "        output.append(activation)\n",
        "        currentLayer_input = np.append(1, activation)\n",
        "    \n",
        "    return output"
      ],
      "execution_count": 4,
      "outputs": []
    },
    {
      "cell_type": "markdown",
      "metadata": {
        "id": "x3aMdfmx82A3"
      },
      "source": [
        "## Back Propagation:\n",
        "\n",
        "In this function the output, weights and number of hidden layers are passed as inputs. The flow will be backwards, from output layer to the last hidden layer and follows. The weights and biases are adjusted accordingly.\n",
        "\n",
        "In this function, error rate will be calculated. The error will be propagated backwards and the weights are adjusted. \n",
        "  - Delta Calculation : error of next layer multiplied by sigmoid derivative of current layer.\n",
        "  - Weights and biases : Delta multiplied with output of previous layer, rate and sum it with weight of previous layer. Biases are updated in the same way.\n",
        "  \n"
      ]
    },
    {
      "cell_type": "code",
      "metadata": {
        "id": "reSiMijCwAKy"
      },
      "source": [
        "def BackPropagation(y, output, weights, hidden_layers):\n",
        "    final_output = output[-1]\n",
        "    error = np.matrix(y - final_output) #Calculate the error at last output\n",
        "    \n",
        "    #Back propagate the error\n",
        "    for j in range(hidden_layers, 0, -1):\n",
        "        currentLayer_output = output[j]\n",
        "        \n",
        "        if(j > 1):\n",
        "            # Add previous output\n",
        "            previous_output = np.append(1, output[j-1])\n",
        "        else:\n",
        "            previous_output = output[0]\n",
        "        \n",
        "        delta = np.multiply(error, sigmoidDerivative(currentLayer_output))\n",
        "        weights[j-1] += rate * np.multiply(delta.T, previous_output)\n",
        "\n",
        "        weight = np.delete(weights[j-1], [0], axis=1) # Remove bias from weights\n",
        "        error = np.dot(delta, weight) # Calculate error for current layer\n",
        "    \n",
        "    return weights"
      ],
      "execution_count": 5,
      "outputs": []
    },
    {
      "cell_type": "markdown",
      "metadata": {
        "id": "1dAYQGdQ83K6"
      },
      "source": [
        "## Train neural network:\n",
        "\n",
        "The right values for the weights and biases determines the strength of the predictions. The process of fine-tuning the weights and biases from the input data is known as training the Neural Network. Here, X, Y, rate and weights are passed as inputs for training the neural network."
      ]
    },
    {
      "cell_type": "code",
      "metadata": {
        "id": "bZ1zEB_MwARX"
      },
      "source": [
        "def train_neuralNet(X, Y, rate, weights):\n",
        "    hidden_layers = len(weights)\n",
        "    for i in range(len(X)):\n",
        "        x, y = X[i], Y[i]\n",
        "        x = np.matrix(np.append(1, x)) # Add feature vector\n",
        "        \n",
        "        output = Feed_Forward(x, weights, hidden_layers)\n",
        "        weights = BackPropagation(y, output, weights, hidden_layers)\n",
        "\n",
        "    return weights"
      ],
      "execution_count": 6,
      "outputs": []
    },
    {
      "cell_type": "markdown",
      "metadata": {
        "id": "d1MZHtRM84SO"
      },
      "source": [
        "## Activation functions:\n",
        "\n",
        "Activation function of a node defines the output of that node, given an input or set of inputs. This output is then used as input for the next node and so on until a desired solution to the original problem is found.\n",
        "\n",
        "Activation function gets to decide which neurons will push forward the values into the next layer. Sigmoid activation function has been used for this project. It takes a value as input and outputs another value between 0 and 1. It is non-linear and easy to work with when constructing a neural network model. "
      ]
    },
    {
      "cell_type": "code",
      "metadata": {
        "id": "aGwj6zoSwQwP"
      },
      "source": [
        "def Sigmoid(x):\n",
        "    return 1 / (1 + np.exp(-x))\n",
        "\n",
        "def sigmoidDerivative(x):\n",
        "    return np.multiply(x, 1-x)"
      ],
      "execution_count": 7,
      "outputs": []
    },
    {
      "cell_type": "markdown",
      "metadata": {
        "id": "wOVKsr15852h"
      },
      "source": [
        "## Predict:\n",
        "\n",
        "The input is first passed to the network. The higher value of a number indicates the most probable class. findMaxActivation() will find the maximum valued output and then corresponding index is set to 1. So, the predicted class is the final output class which we get from the neural network."
      ]
    },
    {
      "cell_type": "code",
      "metadata": {
        "id": "_wc3Sj1QwTr8"
      },
      "source": [
        "def predict(item, weights):\n",
        "    hidden_layers = len(weights)\n",
        "    item = np.append(1, item)\n",
        "    \n",
        "    #forward propagation\n",
        "    output = Feed_Forward(item, weights, hidden_layers)\n",
        "    \n",
        "    final_output = output[-1].A1\n",
        "    index = findMaxActivation(final_output)\n",
        "\n",
        "    y = [0 for i in range(len(final_output))]\n",
        "    y[index] = 1\n",
        "\n",
        "    return y"
      ],
      "execution_count": 8,
      "outputs": []
    },
    {
      "cell_type": "code",
      "metadata": {
        "id": "dilavT14wXqy"
      },
      "source": [
        "def findMaxActivation(output):\n",
        "    m, index = output[0], 0\n",
        "    for i in range(1, len(output)):\n",
        "        if(output[i] > m):\n",
        "            m, index = output[i], i\n",
        "    \n",
        "    return index"
      ],
      "execution_count": 9,
      "outputs": []
    },
    {
      "cell_type": "markdown",
      "metadata": {
        "id": "3uudzMlS88RI"
      },
      "source": [
        "## Model accuracy:\n",
        "\n",
        "In this function, we will pass the inputs, outputs as well as the weights. If the predictionis correct, we will increase the count and find the accuracy by dividing the total correct predictions and total length of X. By doing these calculations, we can get the model accuracy."
      ]
    },
    {
      "cell_type": "code",
      "metadata": {
        "id": "ra35ajMFwa_S"
      },
      "source": [
        "def model_accuracy(X, Y, weights):\n",
        "    correct_prediction = 0\n",
        "\n",
        "    for i in range(len(X)):\n",
        "        x, y = X[i], list(Y[i])\n",
        "        prediction = predict(x, weights)\n",
        "\n",
        "        if(y == prediction):\n",
        "            correct_prediction += 1\n",
        "\n",
        "    return correct_prediction / len(X)"
      ],
      "execution_count": 10,
      "outputs": []
    },
    {
      "cell_type": "markdown",
      "metadata": {
        "id": "KTICuCPW89eO"
      },
      "source": [
        "## Note:\n",
        "\n",
        "Now, we will use the cancer dataset and train the model using this dataset."
      ]
    },
    {
      "cell_type": "markdown",
      "metadata": {
        "id": "Df9zCzQbWons"
      },
      "source": [
        "## Importing the Data:"
      ]
    },
    {
      "cell_type": "code",
      "metadata": {
        "colab": {
          "base_uri": "https://localhost:8080/",
          "height": 195
        },
        "id": "lbrfbAfL8XNb",
        "outputId": "0a307ded-76ea-46fe-ade7-fd7a97b57010"
      },
      "source": [
        "pd.set_option('display.max_rows', 200)\n",
        "\n",
        "df = pd.read_csv('ecoli_data.csv')\n",
        "df.head()"
      ],
      "execution_count": 11,
      "outputs": [
        {
          "output_type": "execute_result",
          "data": {
            "text/html": [
              "<div>\n",
              "<style scoped>\n",
              "    .dataframe tbody tr th:only-of-type {\n",
              "        vertical-align: middle;\n",
              "    }\n",
              "\n",
              "    .dataframe tbody tr th {\n",
              "        vertical-align: top;\n",
              "    }\n",
              "\n",
              "    .dataframe thead th {\n",
              "        text-align: right;\n",
              "    }\n",
              "</style>\n",
              "<table border=\"1\" class=\"dataframe\">\n",
              "  <thead>\n",
              "    <tr style=\"text-align: right;\">\n",
              "      <th></th>\n",
              "      <th>SequenceName</th>\n",
              "      <th>MCG</th>\n",
              "      <th>GVH</th>\n",
              "      <th>LIP</th>\n",
              "      <th>CHG</th>\n",
              "      <th>AAC</th>\n",
              "      <th>ALM1</th>\n",
              "      <th>ALM2</th>\n",
              "      <th>Class</th>\n",
              "    </tr>\n",
              "  </thead>\n",
              "  <tbody>\n",
              "    <tr>\n",
              "      <th>0</th>\n",
              "      <td>AAT_ECOLI</td>\n",
              "      <td>0.49</td>\n",
              "      <td>0.29</td>\n",
              "      <td>0.48</td>\n",
              "      <td>0.5</td>\n",
              "      <td>0.56</td>\n",
              "      <td>0.24</td>\n",
              "      <td>0.35</td>\n",
              "      <td>cp</td>\n",
              "    </tr>\n",
              "    <tr>\n",
              "      <th>1</th>\n",
              "      <td>ACEA_ECOLI</td>\n",
              "      <td>0.07</td>\n",
              "      <td>0.40</td>\n",
              "      <td>0.48</td>\n",
              "      <td>0.5</td>\n",
              "      <td>0.54</td>\n",
              "      <td>0.35</td>\n",
              "      <td>0.44</td>\n",
              "      <td>cp</td>\n",
              "    </tr>\n",
              "    <tr>\n",
              "      <th>2</th>\n",
              "      <td>ACEK_ECOLI</td>\n",
              "      <td>0.56</td>\n",
              "      <td>0.40</td>\n",
              "      <td>0.48</td>\n",
              "      <td>0.5</td>\n",
              "      <td>0.49</td>\n",
              "      <td>0.37</td>\n",
              "      <td>0.46</td>\n",
              "      <td>cp</td>\n",
              "    </tr>\n",
              "    <tr>\n",
              "      <th>3</th>\n",
              "      <td>ACKA_ECOLI</td>\n",
              "      <td>0.59</td>\n",
              "      <td>0.49</td>\n",
              "      <td>0.48</td>\n",
              "      <td>0.5</td>\n",
              "      <td>0.52</td>\n",
              "      <td>0.45</td>\n",
              "      <td>0.36</td>\n",
              "      <td>cp</td>\n",
              "    </tr>\n",
              "    <tr>\n",
              "      <th>4</th>\n",
              "      <td>ADI_ECOLI</td>\n",
              "      <td>0.23</td>\n",
              "      <td>0.32</td>\n",
              "      <td>0.48</td>\n",
              "      <td>0.5</td>\n",
              "      <td>0.55</td>\n",
              "      <td>0.25</td>\n",
              "      <td>0.35</td>\n",
              "      <td>cp</td>\n",
              "    </tr>\n",
              "  </tbody>\n",
              "</table>\n",
              "</div>"
            ],
            "text/plain": [
              "  SequenceName   MCG   GVH   LIP  CHG   AAC  ALM1  ALM2 Class\n",
              "0    AAT_ECOLI  0.49  0.29  0.48  0.5  0.56  0.24  0.35    cp\n",
              "1   ACEA_ECOLI  0.07  0.40  0.48  0.5  0.54  0.35  0.44    cp\n",
              "2   ACEK_ECOLI  0.56  0.40  0.48  0.5  0.49  0.37  0.46    cp\n",
              "3   ACKA_ECOLI  0.59  0.49  0.48  0.5  0.52  0.45  0.36    cp\n",
              "4    ADI_ECOLI  0.23  0.32  0.48  0.5  0.55  0.25  0.35    cp"
            ]
          },
          "metadata": {
            "tags": []
          },
          "execution_count": 11
        }
      ]
    },
    {
      "cell_type": "markdown",
      "metadata": {
        "id": "HtLAqYweWktN"
      },
      "source": [
        "## Preprocessing the Data:"
      ]
    },
    {
      "cell_type": "code",
      "metadata": {
        "colab": {
          "base_uri": "https://localhost:8080/"
        },
        "id": "2XWz2OFc8Xdm",
        "outputId": "c781ae53-308e-4c62-ec8a-1f3008ae43ac"
      },
      "source": [
        "#Prepare the input data\n",
        "X = df[['MCG', 'GVH', 'LIP', 'CHG', 'AAC', 'ALM1', 'ALM2']]\n",
        "X = np.array(X)\n",
        "X[:5]"
      ],
      "execution_count": 12,
      "outputs": [
        {
          "output_type": "execute_result",
          "data": {
            "text/plain": [
              "array([[0.49, 0.29, 0.48, 0.5 , 0.56, 0.24, 0.35],\n",
              "       [0.07, 0.4 , 0.48, 0.5 , 0.54, 0.35, 0.44],\n",
              "       [0.56, 0.4 , 0.48, 0.5 , 0.49, 0.37, 0.46],\n",
              "       [0.59, 0.49, 0.48, 0.5 , 0.52, 0.45, 0.36],\n",
              "       [0.23, 0.32, 0.48, 0.5 , 0.55, 0.25, 0.35]])"
            ]
          },
          "metadata": {
            "tags": []
          },
          "execution_count": 12
        }
      ]
    },
    {
      "cell_type": "code",
      "metadata": {
        "colab": {
          "base_uri": "https://localhost:8080/"
        },
        "id": "ayynAaLZ8Xko",
        "outputId": "07a06ec1-5f89-49ec-93b9-6c923d44b8bd"
      },
      "source": [
        "from sklearn.preprocessing import OneHotEncoder\n",
        "one_hot_encoder = OneHotEncoder(sparse=False)\n",
        "\n",
        "Y = df.Class\n",
        "Y = one_hot_encoder.fit_transform(np.array(Y).reshape(-1, 1))\n",
        "Y[:5]"
      ],
      "execution_count": 13,
      "outputs": [
        {
          "output_type": "execute_result",
          "data": {
            "text/plain": [
              "array([[1., 0., 0., 0., 0., 0., 0., 0.],\n",
              "       [1., 0., 0., 0., 0., 0., 0., 0.],\n",
              "       [1., 0., 0., 0., 0., 0., 0., 0.],\n",
              "       [1., 0., 0., 0., 0., 0., 0., 0.],\n",
              "       [1., 0., 0., 0., 0., 0., 0., 0.]])"
            ]
          },
          "metadata": {
            "tags": []
          },
          "execution_count": 13
        }
      ]
    },
    {
      "cell_type": "code",
      "metadata": {
        "id": "bjk-tb1D8XsD"
      },
      "source": [
        "#Split the data set into train/validation/test\n",
        "from sklearn.model_selection import train_test_split\n",
        "X_train, X_test, Y_train, Y_test = train_test_split(X, Y, test_size=0.15)\n",
        "X_train, X_val, Y_train, Y_val = train_test_split(X_train, Y_train, test_size=0.1)"
      ],
      "execution_count": 14,
      "outputs": []
    },
    {
      "cell_type": "markdown",
      "metadata": {
        "id": "MOUz6ORmW5NX"
      },
      "source": [
        "## Train the neural net model"
      ]
    },
    {
      "cell_type": "code",
      "metadata": {
        "colab": {
          "base_uri": "https://localhost:8080/"
        },
        "id": "T36J69n5weaY",
        "outputId": "a4715d7b-e79a-41d8-f0c9-1641fda74938"
      },
      "source": [
        "features = len(X[0]) # Number of features - using all of the features except for the sequence name\n",
        "classes = len(Y[0]) # Number of classes\n",
        "\n",
        "hidden_layers = [features, 5, 10, classes]\n",
        "rate, iterations = 0.15, 500\n",
        "\n",
        "weights = neural_network(X_train, Y_train, X_val, Y_val, iterations=iterations, nodes=hidden_layers, rate=rate)"
      ],
      "execution_count": 15,
      "outputs": [
        {
          "output_type": "stream",
          "text": [
            "Iteration 20\n",
            "Accuracy on train data:0.65625\n",
            "Accuracy on validation data:0.4827586206896552\n",
            "Iteration 40\n",
            "Accuracy on train data:0.7890625\n",
            "Accuracy on validation data:0.6896551724137931\n",
            "Iteration 60\n",
            "Accuracy on train data:0.79296875\n",
            "Accuracy on validation data:0.6551724137931034\n",
            "Iteration 80\n",
            "Accuracy on train data:0.796875\n",
            "Accuracy on validation data:0.7241379310344828\n",
            "Iteration 100\n",
            "Accuracy on train data:0.80078125\n",
            "Accuracy on validation data:0.7241379310344828\n",
            "Iteration 120\n",
            "Accuracy on train data:0.8046875\n",
            "Accuracy on validation data:0.7241379310344828\n",
            "Iteration 140\n",
            "Accuracy on train data:0.84765625\n",
            "Accuracy on validation data:0.7241379310344828\n",
            "Iteration 160\n",
            "Accuracy on train data:0.86328125\n",
            "Accuracy on validation data:0.7586206896551724\n",
            "Iteration 180\n",
            "Accuracy on train data:0.87109375\n",
            "Accuracy on validation data:0.7586206896551724\n",
            "Iteration 200\n",
            "Accuracy on train data:0.87109375\n",
            "Accuracy on validation data:0.7586206896551724\n",
            "Iteration 220\n",
            "Accuracy on train data:0.87109375\n",
            "Accuracy on validation data:0.7586206896551724\n",
            "Iteration 240\n",
            "Accuracy on train data:0.8671875\n",
            "Accuracy on validation data:0.7586206896551724\n",
            "Iteration 260\n",
            "Accuracy on train data:0.8671875\n",
            "Accuracy on validation data:0.7586206896551724\n",
            "Iteration 280\n",
            "Accuracy on train data:0.8671875\n",
            "Accuracy on validation data:0.7931034482758621\n",
            "Iteration 300\n",
            "Accuracy on train data:0.87109375\n",
            "Accuracy on validation data:0.7931034482758621\n",
            "Iteration 320\n",
            "Accuracy on train data:0.87890625\n",
            "Accuracy on validation data:0.7931034482758621\n",
            "Iteration 340\n",
            "Accuracy on train data:0.8828125\n",
            "Accuracy on validation data:0.7931034482758621\n",
            "Iteration 360\n",
            "Accuracy on train data:0.88671875\n",
            "Accuracy on validation data:0.7931034482758621\n",
            "Iteration 380\n",
            "Accuracy on train data:0.88671875\n",
            "Accuracy on validation data:0.7931034482758621\n",
            "Iteration 400\n",
            "Accuracy on train data:0.88671875\n",
            "Accuracy on validation data:0.7931034482758621\n",
            "Iteration 420\n",
            "Accuracy on train data:0.890625\n",
            "Accuracy on validation data:0.7931034482758621\n",
            "Iteration 440\n",
            "Accuracy on train data:0.890625\n",
            "Accuracy on validation data:0.7931034482758621\n",
            "Iteration 460\n",
            "Accuracy on train data:0.890625\n",
            "Accuracy on validation data:0.7931034482758621\n",
            "Iteration 480\n",
            "Accuracy on train data:0.890625\n",
            "Accuracy on validation data:0.7931034482758621\n",
            "Iteration 500\n",
            "Accuracy on train data:0.89453125\n",
            "Accuracy on validation data:0.7931034482758621\n"
          ],
          "name": "stdout"
        }
      ]
    },
    {
      "cell_type": "markdown",
      "metadata": {
        "id": "zzk1qp8cW9ny"
      },
      "source": [
        "## Accuracy on Test Data:"
      ]
    },
    {
      "cell_type": "code",
      "metadata": {
        "colab": {
          "base_uri": "https://localhost:8080/"
        },
        "id": "27TkRXvVwwk8",
        "outputId": "4becdf1e-e3a6-4b18-cb03-ad816ad5cb48"
      },
      "source": [
        "#Final testing accuracy\n",
        "print(\"Testing Accuracy: {}\".format(model_accuracy(X_test, Y_test, weights)))"
      ],
      "execution_count": 16,
      "outputs": [
        {
          "output_type": "stream",
          "text": [
            "Testing Accuracy: 0.803921568627451\n"
          ],
          "name": "stdout"
        }
      ]
    },
    {
      "cell_type": "markdown",
      "metadata": {
        "id": "UAOIySrPXE-r"
      },
      "source": [
        "## Predictions to cross check neural network model:"
      ]
    },
    {
      "cell_type": "code",
      "metadata": {
        "colab": {
          "base_uri": "https://localhost:8080/"
        },
        "id": "JZSShUYJxB-I",
        "outputId": "3c3795fe-fe46-401c-ba66-89dcf87730f2"
      },
      "source": [
        "\n",
        "print(X_test[0], list(Y_test[0]))"
      ],
      "execution_count": 17,
      "outputs": [
        {
          "output_type": "stream",
          "text": [
            "[0.4  0.45 0.48 0.5  0.38 0.22 0.  ] [1.0, 0.0, 0.0, 0.0, 0.0, 0.0, 0.0, 0.0]\n"
          ],
          "name": "stdout"
        }
      ]
    },
    {
      "cell_type": "code",
      "metadata": {
        "colab": {
          "base_uri": "https://localhost:8080/"
        },
        "id": "Lkw79RB8ydpC",
        "outputId": "3f99066d-16f7-41f0-94e7-a50603dbbf4d"
      },
      "source": [
        "print(predict(X_test[0], weights))"
      ],
      "execution_count": 18,
      "outputs": [
        {
          "output_type": "stream",
          "text": [
            "[1, 0, 0, 0, 0, 0, 0, 0]\n"
          ],
          "name": "stdout"
        }
      ]
    },
    {
      "cell_type": "markdown",
      "metadata": {
        "id": "a8JJR1aPXQhY"
      },
      "source": [
        "## Conclusion:\n",
        "\n",
        "From these predictions, we can draw a conclusion that neural network model implemented worked pretty well on the test data and gave us a good accuracy on this dataset."
      ]
    }
  ]
}